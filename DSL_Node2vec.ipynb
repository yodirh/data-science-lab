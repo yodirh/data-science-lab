{
 "cells": [
  {
   "cell_type": "code",
   "execution_count": 1,
   "metadata": {},
   "outputs": [],
   "source": [
    "import pandas as pd\n",
    "import numpy as np\n",
    "import networkx as nx\n",
    "import random\n",
    "import matplotlib.pyplot as plt"
   ]
  },
  {
   "cell_type": "code",
   "execution_count": 2,
   "metadata": {},
   "outputs": [],
   "source": [
    "ds1 = pd.read_csv('chem.tsv', delimiter = '\\t') \n",
    "drug_bank = list(ds1['#Drug'])\n",
    "gene_uniprot = list(ds1['Gene'])"
   ]
  },
  {
   "cell_type": "raw",
   "metadata": {},
   "source": [
    "Next we have read the graph using networkx and looked at the degree distribution"
   ]
  },
  {
   "cell_type": "code",
   "execution_count": 5,
   "metadata": {},
   "outputs": [],
   "source": [
    "G1 = nx.read_edgelist('chem.tsv', delimiter='\\t') "
   ]
  },
  {
   "cell_type": "code",
   "execution_count": 6,
   "metadata": {},
   "outputs": [],
   "source": [
    "degrees_G1 = G1.degree()\n",
    "num = list()\n",
    "g_nodes = list()\n",
    "for i in degrees_G1:\n",
    "    if(i[0][0]!= 'D'): #taking genes only\n",
    "        g_nodes.append(i[0])\n",
    "        num.append(int(i[1]))\n",
    "    \n"
   ]
  },
  {
   "cell_type": "code",
   "execution_count": 7,
   "metadata": {},
   "outputs": [
    {
     "data": {
      "image/png": "[encoded data removed]",
      "text/plain": [
       "<Figure size 936x504 with 1 Axes>"
      ]
     },
     "metadata": {
      "needs_background": "light"
     },
     "output_type": "display_data"
    }
   ],
   "source": [
    "plt.figure(figsize=(13,7))\n",
    "plt.ylabel('Number of drugs')\n",
    "plt.ylim([np.min(num), np.max(num)])\n",
    "plt.xlabel('Genes')\n",
    "plt.plot(g_nodes, num)\n",
    "plt.xticks('')\n",
    "plt.savefig('dist_ds1.png')\n",
    "plt.show()"
   ]
  },
  {
   "cell_type": "markdown",
   "metadata": {},
   "source": [
    "Train and test sets of positive and negative samples with label 1 or 0 respectively"
   ]
  },
  {
   "cell_type": "code",
   "execution_count": 9,
   "metadata": {},
   "outputs": [],
   "source": [
    "num_of_removed = [int(len(drug_bank)*0.25)]\n",
    "print(num_of_removed)"
   ]
  },
  {
   "cell_type": "code",
   "execution_count": 11,
   "metadata": {},
   "outputs": [
    {
     "data": {
      "text/plain": [
       "'\\nnegative_edges_graph2 = list()\\nwhile len(negative_edges_graph2) < len(list(G2.edges)):\\n    random_drug = random.choice(drug_cid)\\n    random_gene = random.choice(gene_entrez)\\n    try: \\n        sh_path = nx.shortest_path_length(G2,source=random_drug,target=random_gene)\\n    except: \\n        sh_path = 3\\n    if G1.has_edge(random_drug, random_gene) == False and sh_path > 2:\\n        negative_edges_graph2.append([random_drug, random_gene])\\n'"
      ]
     },
     "execution_count": 11,
     "metadata": {},
     "output_type": "execute_result"
    }
   ],
   "source": [
    "negative_edges_graph1 = list()\n",
    "while len(negative_edges_graph1) < len(list(G1.edges)):\n",
    "    random_drug = random.choice(drug_bank)\n",
    "    random_gene = random.choice(gene_uniprot)\n",
    "    try: \n",
    "        sh_path = nx.shortest_path_length(G1,source=random_drug,target=random_gene)\n",
    "    except: \n",
    "        sh_path = 3\n",
    "    if G1.has_edge(random_drug, random_gene) == False and sh_path > 2:\n",
    "        negative_edges_graph1.append([random_drug, random_gene])\n"
   ]
  },
  {
   "cell_type": "code",
   "execution_count": 12,
   "metadata": {},
   "outputs": [],
   "source": [
    "edges_g1 = list(G1.edges)\n",
    "removed_g1 = list()\n",
    "while len(removed_g1) < num_of_removed[0]:\n",
    "    to_be_removed = random.choice(edges_g1)\n",
    "    if degrees_G1[to_be_removed[0]] > 1:\n",
    "        G1.remove_edge(to_be_removed[0], to_be_removed[1]) \n",
    "        edges_g1.remove(to_be_removed)\n",
    "        removed_g1.append(to_be_removed)\n",
    "        "
   ]
  },
  {
   "cell_type": "code",
   "execution_count": null,
   "metadata": {},
   "outputs": [],
   "source": [
    "negative_edges_graph1"
   ]
  },
  {
   "cell_type": "code",
   "execution_count": null,
   "metadata": {},
   "outputs": [],
   "source": [
    "list(G1.edges)"
   ]
  },
  {
   "cell_type": "code",
   "execution_count": 15,
   "metadata": {},
   "outputs": [
    {
     "data": {
      "text/plain": [
       "'\\nG2_train_edges_positive = list(G2.edges)\\nG2_train_edges_negative = negative_edges_graph2[:len(list(G2.edges))]\\nG2_test_edges_positive = removed_g2\\nG2_test_edges_negative = negative_edges_graph2[len(list(G2.edges)):]\\n'"
      ]
     },
     "execution_count": 15,
     "metadata": {},
     "output_type": "execute_result"
    }
   ],
   "source": [
    "G1_train_edges_positive = list(G1.edges)\n",
    "G1_train_edges_negative = negative_edges_graph1[:len(list(G1.edges))]\n",
    "G1_test_edges_positive = removed_g1\n",
    "G1_test_edges_negative = negative_edges_graph1[len(list(G1.edges)):]\n",
    "\n"
   ]
  },
  {
   "cell_type": "markdown",
   "metadata": {},
   "source": [
    "# phase3 node2vec"
   ]
  },
  {
   "cell_type": "code",
   "execution_count": 16,
   "metadata": {},
   "outputs": [],
   "source": [
    "'''\n",
    "functions to create train and test label according to positive and negative edges\n",
    "'''\n",
    "def getposlabel(x):\n",
    "    l = []\n",
    "    for i in x:\n",
    "        l.append(1)\n",
    "    return l\n",
    "def getneglabel(x):\n",
    "    l = []\n",
    "    for i in x:\n",
    "        l.append(0)\n",
    "    return l"
   ]
  },
  {
   "cell_type": "code",
   "execution_count": 17,
   "metadata": {},
   "outputs": [
    {
     "name": "stdout",
     "output_type": "stream",
     "text": [
      "train set size: 22708\n",
      "train label size: 22708\n"
     ]
    }
   ],
   "source": [
    "train_set = G1_train_edges_positive + G1_train_edges_negative\n",
    "train_label = getposlabel(G1_train_edges_positive) + getneglabel(G1_train_edges_negative)\n",
    "print(\"train set size: \"+ str(len(train_set)))\n",
    "print(\"train label size: \"+ str(len(train_label)))"
   ]
  },
  {
   "cell_type": "code",
   "execution_count": 18,
   "metadata": {},
   "outputs": [
    {
     "name": "stdout",
     "output_type": "stream",
     "text": [
      "test set size: 7568\n",
      "test label size: 7568\n"
     ]
    }
   ],
   "source": [
    "test_set = G1_test_edges_positive + G1_test_edges_negative\n",
    "test_label = getposlabel(G1_test_edges_positive) + getneglabel(G1_test_edges_negative)\n",
    "print(\"test set size: \"+ str(len(test_set)))\n",
    "print(\"test label size: \"+ str(len(test_label)))"
   ]
  },
  {
   "cell_type": "code",
   "execution_count": null,
   "metadata": {},
   "outputs": [],
   "source": []
  },
  {
   "cell_type": "code",
   "execution_count": 19,
   "metadata": {},
   "outputs": [],
   "source": [
    "#creating graph from new data set = train set + test set\n",
    "Gdata =nx.convert.from_edgelist(train_set+test_set)\n"
   ]
  },
  {
   "cell_type": "code",
   "execution_count": null,
   "metadata": {},
   "outputs": [],
   "source": []
  },
  {
   "cell_type": "code",
   "execution_count": 20,
   "metadata": {},
   "outputs": [],
   "source": [
    "from node2vec import Node2Vec\n",
    "from sklearn.linear_model import LogisticRegression\n",
    "from sklearn.metrics import roc_auc_score, average_precision_score"
   ]
  },
  {
   "cell_type": "markdown",
   "metadata": {},
   "source": [
    "Training node2vec model with default parameters."
   ]
  },
  {
   "cell_type": "code",
   "execution_count": 21,
   "metadata": {},
   "outputs": [
    {
     "name": "stderr",
     "output_type": "stream",
     "text": [
      "Computing transition probabilities: 100%|█████████████████████████████████████████| 7341/7341 [00:23<00:00, 318.92it/s]\n",
      "Generating walks (CPU: 1): 100%|███████████████████████████████████████████████████████| 10/10 [06:30<00:00, 39.04s/it]\n"
     ]
    }
   ],
   "source": [
    "node2vec = Node2Vec(Gdata)"
   ]
  },
  {
   "cell_type": "code",
   "execution_count": 22,
   "metadata": {},
   "outputs": [],
   "source": [
    "model = node2vec.fit()"
   ]
  },
  {
   "cell_type": "code",
   "execution_count": null,
   "metadata": {},
   "outputs": [],
   "source": []
  },
  {
   "cell_type": "code",
   "execution_count": 23,
   "metadata": {},
   "outputs": [],
   "source": [
    "'''\n",
    "function to get embedding values for train and test set\n",
    "'''\n",
    "def embdata(x,embeder):\n",
    "    l = []\n",
    "    for i in x:\n",
    "        l.append(embeder[(i[0], i[1])])\n",
    "    return l"
   ]
  },
  {
   "cell_type": "code",
   "execution_count": 24,
   "metadata": {},
   "outputs": [],
   "source": [
    "'''\n",
    "Function to run logistic regression and print roc score and ap\n",
    "'''\n",
    "def runlogreg(trx,trl,tsx,tsl):\n",
    "    lr= LogisticRegression(class_weight=\"balanced\")\n",
    "    lr.fit(trx,trl)\n",
    "    pred=lr.predict_proba(tsx)\n",
    "    print(\"roc score: \"+ str(roc_auc_score(tsl, pred[:,1])))\n",
    "    print(\"average prcision score: \"+ str(average_precision_score(tsl, pred[:,1])))"
   ]
  },
  {
   "cell_type": "code",
   "execution_count": 25,
   "metadata": {},
   "outputs": [],
   "source": [
    "from node2vec.edges import HadamardEmbedder\n",
    "edges_embs = HadamardEmbedder(keyed_vectors=model.wv)"
   ]
  },
  {
   "cell_type": "code",
   "execution_count": 31,
   "metadata": {},
   "outputs": [
    {
     "data": {
      "text/plain": [
       "array([-2.32427263e+00,  3.50398779e+00, -2.73476362e+00, -1.32783368e-01,\n",
       "       -1.32339931e+00, -1.78237355e+00,  2.66692162e-01, -2.34073289e-02,\n",
       "       -1.67679477e+00, -1.24552965e+00, -8.36555362e-01, -1.00563564e+01,\n",
       "       -3.72379720e-01,  1.32136655e+00,  2.61903167e-01, -2.25979894e-01,\n",
       "       -3.94987971e-01,  7.48488605e-02, -1.14167905e+00,  8.49578716e-03,\n",
       "        7.50350133e-02,  2.18664500e-04, -7.64884710e+00, -3.70068145e+00,\n",
       "       -1.14742196e+00,  1.27518439e+00,  6.73671913e+00, -3.71649671e+00,\n",
       "        1.86484218e-01,  3.90550852e+00,  1.43319106e-04, -2.41086353e-02,\n",
       "        5.88399731e-02, -4.08612877e-01,  5.99540114e-01,  4.58671379e+00,\n",
       "        6.71355724e-02,  2.66794950e-01, -1.30249822e+00,  6.63302839e-01,\n",
       "        1.36374264e+01,  9.88222003e-01,  6.14303946e-01,  1.16065872e+00,\n",
       "       -2.96539187e+00, -4.46878344e-01,  2.12071761e-01, -1.57463825e+00,\n",
       "        1.32590640e+00, -3.27872038e+00, -5.53529561e-02, -1.72084498e+00,\n",
       "       -1.95832551e+00,  2.85982108e+00,  9.97984588e-01, -6.01189137e+00,\n",
       "       -9.41819966e-01,  4.13419545e-01, -1.28339434e+00,  4.09605540e-02,\n",
       "       -1.32630765e+00, -5.74753940e-01,  2.67232060e+00,  4.73853678e-01,\n",
       "        1.09067595e+00, -6.24281049e-01,  4.31712180e-01, -1.17347851e-01,\n",
       "       -2.60353971e+00,  6.18095684e+00, -1.73371240e-01, -1.39884126e+00,\n",
       "        4.20352429e-01, -1.25536132e+00, -6.41372108e+00,  6.33179843e-02,\n",
       "       -5.29206657e+00, -4.91684532e+00,  6.51966572e-01,  1.71309066e+00,\n",
       "       -2.42541060e-02, -4.29287970e-01,  8.18548501e-02, -3.35656628e-02,\n",
       "       -4.14141305e-02,  2.89622962e-01, -9.66533184e+00,  1.05928373e+00,\n",
       "        3.73352647e-01,  4.18055058e+00,  1.53476226e+00,  1.67324674e+00,\n",
       "        1.26225865e+00, -7.50984669e-01, -4.33709949e-01, -2.00377989e+00,\n",
       "        8.71681929e-01,  1.32580981e-01,  1.79231262e+00, -1.47590649e+00,\n",
       "        4.54833686e-01,  8.66177917e-01, -3.42887230e-02, -1.27647400e+00,\n",
       "       -3.32978940e+00, -5.53435348e-02,  1.01704560e-01, -3.93768811e+00,\n",
       "        3.14805686e-01, -2.69351983e+00,  1.12996198e-01, -1.73028290e+00,\n",
       "        1.13618106e-01,  2.66919941e-01, -2.01462436e+00,  1.22674167e+00,\n",
       "       -6.63638532e-01, -1.28056157e+00,  1.04322463e-01,  1.06495827e-01,\n",
       "       -3.23514760e-01, -3.08289123e+00,  2.04776615e-01,  3.25774141e-02,\n",
       "       -2.90850353e+00,  2.29641512e-01,  1.35444462e+00, -6.83917463e-01],\n",
       "      dtype=float32)"
      ]
     },
     "execution_count": 31,
     "metadata": {},
     "output_type": "execute_result"
    }
   ],
   "source": [
    "edges_embs[('DB02721', 'P10632')]"
   ]
  },
  {
   "cell_type": "code",
   "execution_count": 26,
   "metadata": {},
   "outputs": [],
   "source": [
    "train_x = embdata(train_set, edges_embs)\n",
    "test_x = embdata(test_set, edges_embs)"
   ]
  },
  {
   "cell_type": "code",
   "execution_count": 93,
   "metadata": {},
   "outputs": [
    {
     "name": "stdout",
     "output_type": "stream",
     "text": [
      "7568\n",
      "7568\n"
     ]
    }
   ],
   "source": [
    "#print(len(test_x))\n",
    "#print(len(test_label))"
   ]
  },
  {
   "cell_type": "code",
   "execution_count": 27,
   "metadata": {},
   "outputs": [
    {
     "name": "stdout",
     "output_type": "stream",
     "text": [
      "Evaluation for Hadamard embedder\n",
      "roc score: 0.613992193122036\n",
      "average prcision score: 0.6430334475625792\n"
     ]
    }
   ],
   "source": [
    "print(\"Evaluation for Hadamard embedder\")\n",
    "runlogreg(train_x, train_label, test_x, test_label)"
   ]
  },
  {
   "cell_type": "code",
   "execution_count": 28,
   "metadata": {},
   "outputs": [],
   "source": [
    "from node2vec.edges import WeightedL1Embedder\n",
    "edges_embsw1 = WeightedL1Embedder(keyed_vectors=model.wv)"
   ]
  },
  {
   "cell_type": "code",
   "execution_count": null,
   "metadata": {},
   "outputs": [],
   "source": [
    "edges_embsw1[('DB02721', 'P10632')]"
   ]
  },
  {
   "cell_type": "code",
   "execution_count": 29,
   "metadata": {},
   "outputs": [],
   "source": [
    "ltrain_x = embdata(train_set, edges_embsw1)\n",
    "ltest_x = embdata(test_set, edges_embsw1)"
   ]
  },
  {
   "cell_type": "code",
   "execution_count": 30,
   "metadata": {},
   "outputs": [
    {
     "name": "stdout",
     "output_type": "stream",
     "text": [
      "Evaluation for weighted L1 embedder\n",
      "roc score: 0.608641690952\n",
      "average prcision score: 0.6091259185610665\n"
     ]
    }
   ],
   "source": [
    "print(\"Evaluation for weighted L1 embedder\")\n",
    "runlogreg(ltrain_x,train_label,ltest_x,test_label)"
   ]
  },
  {
   "cell_type": "code",
   "execution_count": null,
   "metadata": {},
   "outputs": [],
   "source": []
  }
 ],
 "metadata": {
  "kernelspec": {
   "display_name": "Python 3",
   "language": "python",
   "name": "python3"
  },
  "language_info": {
   "codemirror_mode": {
    "name": "ipython",
    "version": 3
   },
   "file_extension": ".py",
   "mimetype": "text/x-python",
   "name": "python",
   "nbconvert_exporter": "python",
   "pygments_lexer": "ipython3",
   "version": "3.7.6"
  }
 },
 "nbformat": 4,
 "nbformat_minor": 4
}
